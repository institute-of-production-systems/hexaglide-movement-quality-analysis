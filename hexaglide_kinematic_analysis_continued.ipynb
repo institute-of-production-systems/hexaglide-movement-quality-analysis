{
 "cells": [
  {
   "cell_type": "markdown",
   "id": "dd78f87a",
   "metadata": {},
   "source": [
    "This is a Jupyter notebook for trajectory analysis of a Hexaglide manipulator"
   ]
  },
  {
   "cell_type": "markdown",
   "id": "d00c4ab4",
   "metadata": {},
   "source": [
    "## 1. Code for inverse kinematics (IK) and forward kinematics (FK) calculation according to Palpacelli et al. (2020)"
   ]
  },
  {
   "cell_type": "markdown",
   "id": "afcebaa7",
   "metadata": {},
   "source": [
    "Imports"
   ]
  },
  {
   "cell_type": "code",
   "execution_count": 1,
   "id": "8986310b",
   "metadata": {},
   "outputs": [],
   "source": [
    "from utils import *\n",
    "import numpy as np\n",
    "import matplotlib.pyplot as plt\n",
    "from scipy.spatial.transform import Rotation as R\n",
    "from sklearn import preprocessing\n",
    "from planner import *\n",
    "import math as m"
   ]
  },
  {
   "cell_type": "markdown",
   "id": "1a88e2dd",
   "metadata": {},
   "source": [
    "IK solver"
   ]
  },
  {
   "cell_type": "code",
   "execution_count": 2,
   "id": "377c9f9d",
   "metadata": {},
   "outputs": [],
   "source": [
    "class IKSolver:\n",
    "    def __init__(self):\n",
    "        self.init_rotation_matrix = np.eye(3, 3, dtype=float)\n",
    "        self.init_translation_vector = np.array([0.0, 0.0, 278.256])\n",
    "        self.init_translation_vector = self.init_translation_vector / 1000\n",
    "        # self.init_translation_vector = np.array([0.0, 0.0, 235.763])\n",
    "        self.init_T_1_0 = self.get_transform_matrix(self.init_rotation_matrix, self.init_translation_vector)\n",
    "        self.L = np.array([236.5, 236.5, 236.5, 236.5, 236.5, 236.5]).reshape(-1, 1)\n",
    "        self.L = self.L / 1000\n",
    "\n",
    "        self.s1 = np.array([0, 0, 1]).reshape(-1, 1)\n",
    "        self.s2 = np.array([0, 0, 1]).reshape(-1, 1)\n",
    "        self.s3 = np.array([0, 0, 1]).reshape(-1, 1)\n",
    "        self.s4 = np.array([0, 0, 1]).reshape(-1, 1)\n",
    "        self.s5 = np.array([0, 0, 1]).reshape(-1, 1)\n",
    "        self.s6 = np.array([0, 0, 1]).reshape(-1, 1)\n",
    "        self.s_i = np.concatenate((self.s1, self.s2, self.s3, self.s4, self.s5, self.s6), axis=1)\n",
    "\n",
    "        self.S_0_1 = np.array([47.040, 104.524, 43.500]).reshape(-1, 1)\n",
    "        self.S_0_2 = np.array([114.040, -11.524, 43.500]).reshape(-1, 1)\n",
    "        self.S_0_3 = np.array([67.000, -93.000, 43.500]).reshape(-1, 1)\n",
    "        self.S_0_4 = np.array([-67.000, -93.000, 43.500]).reshape(-1, 1)\n",
    "        self.S_0_5 = np.array([-114.040, -11.524, 43.500]).reshape(-1, 1)\n",
    "        self.S_0_6 = np.array([-47.040, 104.524, 43.500]).reshape(-1, 1)\n",
    "        self.init_S_0 = np.concatenate((self.S_0_1, self.S_0_2, self.S_0_3, self.S_0_4, self.S_0_5, self.S_0_6), axis=1)\n",
    "        self.init_S_0 = self.init_S_0 / 1000\n",
    "\n",
    "        self.P_1_1 = np.array([20.000, 95.000, 0.000]).reshape(-1, 1)\n",
    "        self.P_1_2 = np.array([92.272, -30.179, 0.000]).reshape(-1, 1)\n",
    "        self.P_1_3 = np.array([72.272, -64.821, 0.000]).reshape(-1, 1)\n",
    "        self.P_1_4 = np.array([-72.272, -64.821, 0.000]).reshape(-1, 1)\n",
    "        self.P_1_5 = np.array([-92.272, -30.179, 0.000]).reshape(-1, 1)\n",
    "        self.P_1_6 = np.array([-20.000, 95.000, 0.000]).reshape(-1, 1)\n",
    "        self.init_P_1 = np.concatenate((self.P_1_1, self.P_1_2, self.P_1_3, self.P_1_4, self.P_1_5, self.P_1_6), axis=1)\n",
    "        self.init_P_1 = self.init_P_1 / 1000\n",
    "\n",
    "        self.P_0_1 = self.transform_1_0(self.init_T_1_0, self.P_1_1)\n",
    "        self.P_0_2 = self.transform_1_0(self.init_T_1_0, self.P_1_2)\n",
    "        self.P_0_3 = self.transform_1_0(self.init_T_1_0, self.P_1_3)\n",
    "        self.P_0_4 = self.transform_1_0(self.init_T_1_0, self.P_1_4)\n",
    "        self.P_0_5 = self.transform_1_0(self.init_T_1_0, self.P_1_5)\n",
    "        self.P_0_6 = self.transform_1_0(self.init_T_1_0, self.P_1_6)\n",
    "        self.init_P_0 = np.concatenate((self.P_0_1, self.P_0_2, self.P_0_3, self.P_0_4, self.P_0_5, self.P_0_6), axis=1)\n",
    "        self.init_P_0 = np.resize(self.init_P_0, (3, self.init_P_0.shape[1]))\n",
    "\n",
    "    @staticmethod\n",
    "    def get_transform_matrix(rotation_matrix, translation_vector):\n",
    "        translation_vector = np.reshape(translation_vector, (3, 1))\n",
    "        transform = np.concatenate((rotation_matrix, translation_vector), axis=1)\n",
    "        transform = np.concatenate((transform, np.array([[0, 0, 0, 1]])))\n",
    "        return transform\n",
    "\n",
    "    @staticmethod\n",
    "    def transform_1_0(T_1_0, T):\n",
    "        if T.shape[0] < 4:\n",
    "            T = np.concatenate((T, (np.array([1]).reshape(-1, 1))))\n",
    "        transform = np.matmul(T_1_0, T)\n",
    "        return transform\n",
    "\n",
    "    def calc_S(self, q):\n",
    "        S = np.zeros(self.init_S_0.shape)\n",
    "        S = self.init_S_0 + q.T * self.s_i\n",
    "        return S\n",
    "\n",
    "    def calc_q(self, pose, rot, P):\n",
    "        pose = pose.reshape(-1, 1)\n",
    "        a = pose + np.matmul(rot, P) - self.init_S_0\n",
    "        q1 = []\n",
    "        q2 = []\n",
    "        for i in range(6):\n",
    "            q1.append(np.matmul(self.s_i[:, i].T, a[:, i]) +\n",
    "                      np.sqrt(np.power(np.matmul(self.s_i[:, i].T, a[:, i]), 2) -\n",
    "                              np.matmul(a[:, i].T, a[:, i]) +\n",
    "                              np.power(self.L[i], 2)))\n",
    "            q2.append(np.matmul(self.s_i[:, i].T, a[:, i]) -\n",
    "                      np.sqrt(np.power(np.matmul(self.s_i[:, i].T, a[:, i]), 2) -\n",
    "                              np.matmul(a[:, i].T, a[:, i]) +\n",
    "                              np.power(self.L[i], 2)))\n",
    "        q1 = np.array(q1, dtype=np.double)\n",
    "        q2 = np.array(q2, dtype=np.double)\n",
    "        return q1, q2\n",
    "\n",
    "    def discretize(self, delta_x, T, polynomial=False, step_size=1, skip_ik=False):\n",
    "        '''\n",
    "        Takes a smooth linear trajectory in task space and returns corresponding joint trajectories\n",
    "        '''\n",
    "        x = []\n",
    "        q1 = []\n",
    "        q2 = []\n",
    "        delta_x = np.array(delta_x)\n",
    "        for i, t in enumerate(range(0, T, step_size)):\n",
    "            z = float(t / T)\n",
    "            # x.append(((-20.0*z**7)+(70.0*z**6)-(84.0*z**5)+(35.0*z**4))*delta_x)\n",
    "            if polynomial:\n",
    "                x.append((((3 * z ** 2) - (2 * z ** 3)) * delta_x))  # Cubic Polynomial\n",
    "            else:\n",
    "                x.append(z*delta_x)\n",
    "\n",
    "            if not skip_ik:\n",
    "                pose_1 = np.array([x[i][0], x[i][1], x[i][2]]).reshape(-1, 1)\n",
    "                rx = R.from_euler('x', x[i][3], degrees=True)\n",
    "                ry = R.from_euler('y', x[i][4], degrees=True)\n",
    "                rz = R.from_euler('z', x[i][5], degrees=True)\n",
    "                r = rz * ry * rx\n",
    "                rot = r.as_matrix()\n",
    "                transform = self.get_transform_matrix(rot, pose_1)\n",
    "                T_1_0 = self.transform_1_0(self.init_T_1_0, transform)\n",
    "                pose_0 = T_1_0[:, -1][:3]\n",
    "                q1_temp, q2_temp = self.calc_q(pose_0, rot, self.init_P_1)\n",
    "                q1.append(q1_temp)\n",
    "                q2.append(q2_temp)\n",
    "        x = np.array(x)\n",
    "        q1 = np.array(q1)\n",
    "        q2 = np.array(q2)\n",
    "        return x, q1, q2\n",
    "    \n",
    "    def smooth_joint_trajectory(self, q_e, T, polynomial=True, step_size=1):\n",
    "        q = []\n",
    "        q_e = np.array(q_e)\n",
    "        for i, t in enumerate(range(0, T, step_size)):\n",
    "            z = float(t / T)\n",
    "            if polynomial:\n",
    "                q.append((((3 * z ** 2) - (2 * z ** 3)) * q_e))  # Cubic Polynomial\n",
    "            else:\n",
    "                q.append(z * q_e)\n",
    "        q = np.array(q)\n",
    "        return q\n",
    "    \n",
    "    def smooth_joint_trajectory_nonzero_start(self, q_0, q_e, T, polynomial=True, step_size=1):\n",
    "        q = []\n",
    "        q_0 = np.array(q_0)\n",
    "        q_e = np.array(q_e)\n",
    "        for i, t in enumerate(range(0, T, step_size)):\n",
    "            z = float(t / T)\n",
    "            if polynomial:\n",
    "                q.append((q_0 + ((3 * z ** 2) - (2 * z ** 3)) * (q_e - q_0)))  # Cubic Polynomial\n",
    "            else:\n",
    "                q.append(q_0 + z * (q_e - q_0))\n",
    "        q = np.array(q)\n",
    "        return q\n",
    "    \n",
    "    def equal_velocity_joint_trajectory(self, q_e, T):\n",
    "        q = []\n",
    "        q_e = np.array(q_e)\n",
    "        q_e_max = np.max(np.abs(q_e))\n",
    "        q_vel_max = q_e_max / T\n",
    "        delta_q = q_vel_max\n",
    "        q_curr = np.zeros((6,1), dtype=np.float32)\n",
    "        for t in range(0, T):\n",
    "            for i in range(6):\n",
    "                if q_e[i][0] >= 0.0:\n",
    "                    if q_curr[i] + delta_q < q_e[i][0]:\n",
    "                        q_curr[i] = q_curr[i] + delta_q\n",
    "                    else:\n",
    "                        q_curr[i] = q_e[i][0]\n",
    "                else:\n",
    "                    if q_curr[i] - delta_q > q_e[i][0]:\n",
    "                        q_curr[i] = q_curr[i] - delta_q\n",
    "                    else:\n",
    "                        q_curr[i] = q_e[i][0]\n",
    "            q.append(q_curr * 1.0)\n",
    "        q = np.array(q)\n",
    "        return q\n",
    "\n",
    "    @staticmethod\n",
    "    def forward_derivative(fx, step_size=1):\n",
    "        np.array(fx)\n",
    "        fx_diff = []\n",
    "        for i in (range(len(fx) - 1)):\n",
    "            fx_diff.append((np.subtract(fx[i + 1], fx[i]) / step_size))\n",
    "        return np.array(fx_diff)"
   ]
  },
  {
   "cell_type": "markdown",
   "id": "342b9b50",
   "metadata": {},
   "source": [
    "FK solver"
   ]
  },
  {
   "cell_type": "code",
   "execution_count": 3,
   "id": "c502c215",
   "metadata": {},
   "outputs": [],
   "source": [
    "class FKSolver(IKSolver):\n",
    "    def __init__(self):\n",
    "        super().__init__()\n",
    "        self.x0 = None\n",
    "        self.x1 = None\n",
    "        self.x2 = None\n",
    "        self.x3 = None\n",
    "        self.y0 = None\n",
    "        self.y1 = None\n",
    "        self.y2 = None\n",
    "        self.y3 = None\n",
    "        self.x = np.zeros(8)\n",
    "        self.e = [None, None, None, None, None, None]\n",
    "        self.s = None\n",
    "        self.n = None\n",
    "        self.constraints = np.zeros(8)\n",
    "        self.constraint_tolerance = 1e-8\n",
    "\n",
    "    def update_study_params(self, transform=None):\n",
    "        if transform is None:\n",
    "            T = self.init_T_1_0\n",
    "        else:\n",
    "            T = transform\n",
    "        self.x3 = 0.5 * np.sqrt(T[0, 0] + T[1, 1] + T[2, 2] + 1)\n",
    "        self.x0 = (T[2, 1] - T[1, 2]) / (4 * self.x3)\n",
    "        self.x1 = (T[0, 2] - T[2, 0]) / (4 * self.x3)\n",
    "        self.x2 = (T[1, 0] - T[0, 1]) / (4 * self.x3)\n",
    "        self.y0 = -0.5 * (T[0, 3] * self.x3 + T[1, 3] * self.x2 - T[2, 3] * self.x1)\n",
    "        self.y1 = -0.5 * (-T[0, 3] * self.x2 + T[1, 3] * self.x3 + T[2, 3] * self.x0)\n",
    "        self.y2 = -0.5 * (T[0, 3] * self.x1 - T[1, 3] * self.x0 + T[2, 3] * self.x3)\n",
    "        self.y3 = -0.5 * (T[0, 3] * self.x0 + T[1, 3] * self.x1 + T[2, 3] * self.x2)\n",
    "        self.x = np.array([self.x0, self.x1, self.x2, self.x3, self.y0, self.y1, self.y2, self.y3])\n",
    "        # print(self.x)\n",
    "\n",
    "    def transform_from_study_params(self):\n",
    "        T = np.zeros((4, 4))\n",
    "        x0 = self.x[0]\n",
    "        x1 = self.x[1]\n",
    "        x2 = self.x[2]\n",
    "        x3 = self.x[3]\n",
    "        y0 = self.x[4]\n",
    "        y1 = self.x[5]\n",
    "        y2 = self.x[6]\n",
    "        y3 = self.x[7]\n",
    "\n",
    "        T[0, 0] = x0 ** 2 - x1 ** 2 - x2 ** 2 + x3 ** 2\n",
    "        T[0, 1] = 2 * ((x0 * x1) - (x2 * x3))\n",
    "        T[0, 2] = 2 * ((x0 * x2) + (x1 * x3))\n",
    "        T[0, 3] = 2 * ((x0 * y3) - (x1 * y2) + (x2 * y1) - (x3 * y0))\n",
    "\n",
    "        T[1, 0] = 2 * ((x0 * x1) + (x2 * x3))\n",
    "        T[1, 1] = -x0 ** 2 + x1 ** 2 - x2 ** 2 + x3 ** 2\n",
    "        T[1, 2] = 2 * ((x1 * x2) - (x0 * x3))\n",
    "        T[1, 3] = 2 * ((x0 * y2) + (x1 * y3) - (x2 * y0) - (x3 * y1))\n",
    "\n",
    "        T[2, 0] = 2 * ((x0 * x2) - (x1 * x3))\n",
    "        T[2, 1] = 2 * ((x1 * x2) + (x0 * x3))\n",
    "        T[2, 2] = -x0 ** 2 - x1 ** 2 + x2 ** 2 + x3 ** 2\n",
    "        T[2, 3] = 2 * ((x1 * y0) - (x0 * y1) + (x2 * y3) - (x3 * y2))\n",
    "\n",
    "        T[3, 0] = 0\n",
    "        T[3, 1] = 0\n",
    "        T[3, 2] = 0\n",
    "        T[3, 3] = x0 ** 2 + x1 ** 2 + x2 ** 2 + x3 ** 2\n",
    "\n",
    "        return T\n",
    "\n",
    "    def calc_J(self, P_0, S_0):\n",
    "        J = np.zeros((8, 8), dtype=np.float64)\n",
    "\n",
    "        dT_dx0 = np.array([[2 * self.x0, 2 * self.x1, 2 * self.x2, 2 * self.y3],\n",
    "                           [2 * self.x1, -2 * self.x0, -2 * self.x3, 2 * self.y2],\n",
    "                           [2 * self.x2, 2 * self.x3, -2 * self.x0, -2 * self.y1],\n",
    "                           [0, 0, 0, 2 * self.x0]])\n",
    "        \n",
    "        dT_dx1 = np.array([[-2 * self.x1, 2 * self.x0, 2 * self.x3, -2 * self.y2],\n",
    "                           [2 * self.x0, 2 * self.x1, 2 * self.x2, 2 * self.y3],\n",
    "                           [-2 * self.x3, 2 * self.x2, -2 * self.x1, 2 * self.y0],\n",
    "                           [0, 0, 0, 2 * self.x1]])\n",
    "        \n",
    "        dT_dx2 = np.array([[-2 * self.x2, -2 * self.x3, 2 * self.x0, 2 * self.y1],\n",
    "                           [2 * self.x3, -2 * self.x2, 2 * self.x1, -2 * self.y0],\n",
    "                           [2 * self.x0, 2 * self.x1, 2 * self.x2, 2 * self.y3],\n",
    "                           [0, 0, 0, 2 * self.x2]])\n",
    "        \n",
    "        dT_dx3 = np.array([[2 * self.x3, -2 * self.x2, 2 * self.x1, -2 * self.y0],\n",
    "                           [2 * self.x2, 2 * self.x3, -2 * self.x0, -2 * self.y1],\n",
    "                           [-2 * self.x1, 2 * self.x0, 2 * self.x3, -2 * self.y2],\n",
    "                           [0, 0, 0, 2 * self.x3]])\n",
    "        \n",
    "        dT_dy0 = np.array([[0, 0, 0, -2 * self.x3],\n",
    "                           [0, 0, 0, -2 * self.x2],\n",
    "                           [0, 0, 0, 2 * self.x1],\n",
    "                           [0, 0, 0, 0]])\n",
    "        \n",
    "        dT_dy1 = np.array([[0, 0, 0, 2 * self.x2],\n",
    "                           [0, 0, 0, -2 * self.x3],\n",
    "                           [0, 0, 0, -2 * self.x0],\n",
    "                           [0, 0, 0, 0]])\n",
    "        \n",
    "        dT_dy2 = np.array([[0, 0, 0, -2 * self.x1],\n",
    "                           [0, 0, 0, 2 * self.x0],\n",
    "                           [0, 0, 0, -2 * self.x3],\n",
    "                           [0, 0, 0, 0]])\n",
    "        \n",
    "        dT_dy3 = np.array([[0, 0, 0, 2 * self.x0],\n",
    "                           [0, 0, 0, 2 * self.x1],\n",
    "                           [0, 0, 0, 2 * self.x2],\n",
    "                           [0, 0, 0, 0]])\n",
    "        \n",
    "        dT_dx = [dT_dx0, dT_dx1, dT_dx2, dT_dx3, dT_dy0, dT_dy1, dT_dy2, dT_dy3]\n",
    "        ds_dx = [self.y0, self.y1, self.y2, self.y3, self.x0, self.x1, self.x2, self.x3]\n",
    "        dn_dx = [2 * self.x0, 2 * self.x1, 2 * self.x2, 2 * self.x3, 0, 0, 0, 0]\n",
    "\n",
    "        # Iterate over 8 study parameters\n",
    "        for i in range(np.shape(J)[1]):\n",
    "            # Iterate over 6 e_j constraints\n",
    "            for j in range(np.shape(P_0)[1]):\n",
    "                dP_dx = self.transform_1_0(dT_dx[i], P_0[:, j].reshape(-1, 1))\n",
    "                dP_dx = np.resize(dP_dx, (3, dP_dx.shape[1]))\n",
    "                J[j, i] = np.vdot(2 * (P_0[:, j] - S_0[:, j]), dP_dx)\n",
    "            # s constraint\n",
    "            J[j + 1, i] = ds_dx[i]\n",
    "            # n constraint\n",
    "            J[j + 2, i] = dn_dx[i]\n",
    "        return J\n",
    "\n",
    "    def update_constraints(self, P_0, S_0):\n",
    "        temp_P = P_0\n",
    "        temp_S = S_0\n",
    "        e1 = (np.linalg.norm(np.subtract(P_0[:, 0], S_0[:, 0])) ** 2 - self.L[0] ** 2)[0]\n",
    "        e2 = (np.linalg.norm(np.subtract(P_0[:, 1], S_0[:, 1])) ** 2 - self.L[1] ** 2)[0]\n",
    "        e3 = (np.linalg.norm(np.subtract(P_0[:, 2], S_0[:, 2])) ** 2 - self.L[2] ** 2)[0]\n",
    "        e4 = (np.linalg.norm(np.subtract(P_0[:, 3], S_0[:, 3])) ** 2 - self.L[3] ** 2)[0]\n",
    "        e5 = (np.linalg.norm(np.subtract(P_0[:, 4], S_0[:, 4])) ** 2 - self.L[4] ** 2)[0]\n",
    "        e6 = (np.linalg.norm(np.subtract(P_0[:, 5], S_0[:, 5])) ** 2 - self.L[5] ** 2)[0]\n",
    "        s = self.x0 * self.y0 + self.x1 * self.y1 + self.x2 * self.y2 + self.x3 * self.y3\n",
    "        n = self.x0 ** 2 + self.x1 ** 2 + self.x2 ** 2 + self.x3 ** 2 - 1\n",
    "        self.constraints = np.array([e1, e2, e3, e4, e5, e6, s, n])\n",
    "\n",
    "    def check_constraints(self):\n",
    "        constraint_status = [False, False, False, False, False, False, False, False]\n",
    "        for i in range(len(self.constraints)):\n",
    "            constraint_status[i] = True if abs(self.constraints[i]) <= self.constraint_tolerance else False\n",
    "        return constraint_status\n",
    "\n",
    "    def get_eef_transform_matrix(self, init_T_1_0, q_i, q_curr, n_iter=100, n_q=10):\n",
    "        q = np.linspace(q_i, q_curr, n_q)\n",
    "        T = init_T_1_0\n",
    "        init_P_0_1 = self.transform_1_0(T, self.P_1_1 / 1000)\n",
    "        init_P_0_2 = self.transform_1_0(T, self.P_1_2 / 1000)\n",
    "        init_P_0_3 = self.transform_1_0(T, self.P_1_3 / 1000)\n",
    "        init_P_0_4 = self.transform_1_0(T, self.P_1_4 / 1000)\n",
    "        init_P_0_5 = self.transform_1_0(T, self.P_1_5 / 1000)\n",
    "        init_P_0_6 = self.transform_1_0(T, self.P_1_6 / 1000)\n",
    "        P_0 = np.concatenate((init_P_0_1, init_P_0_2, init_P_0_3, init_P_0_4, init_P_0_5, init_P_0_6), axis=1)\n",
    "        P_0 = np.resize(P_0, (3, P_0.shape[1]))\n",
    "        S_0 = self.calc_S(q[0])\n",
    "\n",
    "        self.update_study_params(T)\n",
    "\n",
    "        self.update_constraints(P_0, S_0)\n",
    "\n",
    "        J = self.calc_J(P_0, S_0)\n",
    "        self.x = self.x - np.matmul(np.linalg.inv(J), self.constraints)\n",
    "\n",
    "        #T = np.around(self.transform_from_study_params(), decimals=5)\n",
    "        T = self.transform_from_study_params()\n",
    "\n",
    "        for k in range(1, np.shape(q)[0]):\n",
    "            for i in range(n_iter):\n",
    "                init_P_0_1 = self.transform_1_0(T, self.P_1_1 / 1000)\n",
    "                init_P_0_2 = self.transform_1_0(T, self.P_1_2 / 1000)\n",
    "                init_P_0_3 = self.transform_1_0(T, self.P_1_3 / 1000)\n",
    "                init_P_0_4 = self.transform_1_0(T, self.P_1_4 / 1000)\n",
    "                init_P_0_5 = self.transform_1_0(T, self.P_1_5 / 1000)\n",
    "                init_P_0_6 = self.transform_1_0(T, self.P_1_6 / 1000)\n",
    "                P_0 = np.concatenate((init_P_0_1, init_P_0_2, init_P_0_3, init_P_0_4, init_P_0_5, init_P_0_6), axis=1)\n",
    "                P_0 = np.resize(P_0, (3, P_0.shape[1]))\n",
    "                S_0 = self.calc_S(q[k])\n",
    "\n",
    "                self.update_study_params(T)\n",
    "\n",
    "                self.update_constraints(P_0, S_0)\n",
    "                constraints_flag = self.check_constraints()\n",
    "                \n",
    "                if all(constraints_flag):\n",
    "                    #print('All constraints satisfied in ' + str(i) + ' iterations')\n",
    "                    T = self.transform_from_study_params()\n",
    "                    break\n",
    "                else:\n",
    "                    J = self.calc_J(P_0, S_0)\n",
    "                    self.x = self.x - np.matmul(np.linalg.inv(J), self.constraints)\n",
    "                    T = self.transform_from_study_params()\n",
    "                \n",
    "                #if i == n_iter - 1:\n",
    "                #    print(f'Warning: constraint tolerance not reached within {n_iter} iterations at k={k}!')\n",
    "                    \n",
    "        return T"
   ]
  },
  {
   "cell_type": "markdown",
   "id": "2133cffc",
   "metadata": {},
   "source": [
    "Pose trajectory plotter"
   ]
  },
  {
   "cell_type": "code",
   "execution_count": 4,
   "id": "6abf6a34",
   "metadata": {},
   "outputs": [],
   "source": [
    "def plot_pose_trajectories(x, T, save_plot=False, ignore_rotations=False):\n",
    "    \"\"\"\n",
    "    Plot translation and rotation trajectories in a 3x2 subplot layout.\n",
    "    \n",
    "    Args:\n",
    "        x: Array of shape (T,6) containing translations (x,y,z) and rotations (rx,ry,rz)\n",
    "        T: Number of timesteps\n",
    "        save_plot: Whether to save plot to file (default: False)\n",
    "    \"\"\"\n",
    "    fig, axs = plt.subplots(3, 2, figsize=(10,8), sharex='col')\n",
    "    time = range(T)\n",
    "    translations = x[:,:3] * 1000\n",
    "    if ignore_rotations:\n",
    "        rotations = np.zeros(translations.shape)\n",
    "    else:\n",
    "        rotations = x[:,3:]\n",
    "\n",
    "    # Get axis limits for sharing with 10% padding\n",
    "    trans_min = np.min(translations)\n",
    "    trans_max = np.max(translations)\n",
    "    trans_range = trans_max - trans_min\n",
    "    trans_pad = 0.1 * trans_range\n",
    "    trans_min -= trans_pad\n",
    "    trans_max += trans_pad\n",
    "\n",
    "    rot_min = np.min(rotations)\n",
    "    rot_max = np.max(rotations)\n",
    "    rot_range = rot_max - rot_min\n",
    "    rot_pad = 0.1 * rot_range\n",
    "    rot_min -= rot_pad\n",
    "    rot_max += rot_pad\n",
    "\n",
    "    # Translation plots\n",
    "    labels = ['x', 'y', 'z']\n",
    "    for i in range(3):\n",
    "        axs[i,0].plot(time, translations[:,i], 'b-')\n",
    "        axs[i,0].set_ylim(trans_min, trans_max)\n",
    "        axs[i,0].set_ylabel(f'{labels[i]} [mm]', rotation=0, ha='right')\n",
    "        axs[i,0].grid(True, axis='y', linestyle='--', alpha=0.3)\n",
    "        axs[i,0].axhline(y=0, color='k', linestyle='-', alpha=0.1)\n",
    "        \n",
    "        if i < 2:\n",
    "            axs[i,0].set_xticklabels([])\n",
    "\n",
    "    # Rotation plots        \n",
    "    labels = [r'$\\theta_x$', r'$\\theta_y$', r'$\\theta_z$']\n",
    "    for i in range(3):\n",
    "        axs[i,1].plot(time, rotations[:,i], 'r-')\n",
    "        axs[i,1].set_ylim(rot_min, rot_max)\n",
    "        axs[i,1].set_ylabel(f'{labels[i]} [deg]', rotation=0, ha='right')\n",
    "        axs[i,1].grid(True, axis='y', linestyle='--', alpha=0.3)\n",
    "        axs[i,1].axhline(y=0, color='k', linestyle='-', alpha=0.1)\n",
    "        \n",
    "        if i < 2:\n",
    "            axs[i,1].set_xticklabels([])\n",
    "\n",
    "    # X-axis labels\n",
    "    axs[2,0].set_xlabel('Timesteps')\n",
    "    axs[2,1].set_xlabel('Timesteps')\n",
    "\n",
    "    plt.tight_layout()"
   ]
  },
  {
   "cell_type": "markdown",
   "id": "102c9d07",
   "metadata": {},
   "source": [
    "Joint trajectory plotter"
   ]
  },
  {
   "cell_type": "code",
   "execution_count": 5,
   "id": "7d1a324b",
   "metadata": {},
   "outputs": [],
   "source": [
    "def plot_joint_trajectories(q, T, save_plot=False):\n",
    "    \"\"\"\n",
    "    Plot joint trajectories in a 3x2 subplot layout.\n",
    "    \n",
    "    Args:\n",
    "        q: Array of shape (T,6) containing joint positions q1-q6\n",
    "        T: Number of timesteps\n",
    "        save_plot: Whether to save plot to file (default: False)\n",
    "    \"\"\"\n",
    "    fig, axs = plt.subplots(3, 2, figsize=(10,8), sharex='col')\n",
    "    time = range(T)\n",
    "    q = q * 1000 # convert to millimeters\n",
    "    \n",
    "    # Get axis limits with 10% padding\n",
    "    q_min = np.min(q)\n",
    "    q_max = np.max(q)\n",
    "    q_range = q_max - q_min\n",
    "    q_pad = 0.1 * q_range\n",
    "    q_min -= q_pad\n",
    "    q_max += q_pad\n",
    "\n",
    "    # Joint plots\n",
    "    labels = [r'$q_1$', r'$q_2$', r'$q_3$', r'$q_4$', r'$q_5$', r'$q_6$']\n",
    "    for i in range(3):\n",
    "        for j in range(2):\n",
    "            joint_idx = i*2 + j\n",
    "            axs[i,j].plot(time, q[:,joint_idx], 'b-')\n",
    "            axs[i,j].set_ylim(q_min, q_max)\n",
    "            axs[i,j].set_ylabel(f'{labels[joint_idx]} [mm]', rotation=0, ha='right')\n",
    "            axs[i,j].grid(True, axis='y', linestyle='--', alpha=0.3)\n",
    "            axs[i,j].axhline(y=0, color='k', linestyle='-', alpha=0.1)\n",
    "            \n",
    "            if i < 2:\n",
    "                axs[i,j].set_xticklabels([])\n",
    "\n",
    "    # X-axis labels\n",
    "    axs[2,0].set_xlabel('Timesteps')\n",
    "    axs[2,1].set_xlabel('Timesteps') \n",
    "\n",
    "    plt.tight_layout()"
   ]
  },
  {
   "cell_type": "markdown",
   "id": "ea20e1ff",
   "metadata": {},
   "source": [
    "Pose trajectory comparison plotter"
   ]
  },
  {
   "cell_type": "code",
   "execution_count": 6,
   "id": "9cffade7",
   "metadata": {},
   "outputs": [],
   "source": [
    "def plot_pose_trajectory_comparison(x, x_other, T, save_plot=False, ignore_rotations=False):\n",
    "    \"\"\"\n",
    "    Plot translation and rotation trajectories in a 3x2 subplot layout.\n",
    "    \n",
    "    Args:\n",
    "        x: Array of shape (T,6) containing translations (x,y,z) and rotations (rx,ry,rz)\n",
    "        T: Number of timesteps\n",
    "        save_plot: Whether to save plot to file (default: False)\n",
    "    \"\"\"\n",
    "    fig, axs = plt.subplots(3, 2, figsize=(10,8), sharex='col')\n",
    "    time = range(T)\n",
    "    translations = x[:,:3] * 1000\n",
    "    translations_other = x_other[:,:3] * 1000\n",
    "    if ignore_rotations:\n",
    "        rotations = np.zeros(translations.shape)\n",
    "        rotations_other = np.zeros(translations_other.shape)\n",
    "    else:\n",
    "        rotations = x[:,3:]\n",
    "        rotations_other = x_other[:,3:]\n",
    "\n",
    "    # Get axis limits for sharing with 10% padding\n",
    "    trans_min = np.min(np.concatenate((translations, translations_other)))\n",
    "    trans_max = np.max(np.concatenate((translations, translations_other)))\n",
    "    trans_range = trans_max - trans_min\n",
    "    trans_pad = 0.1 * trans_range\n",
    "    trans_min -= trans_pad\n",
    "    trans_max += trans_pad\n",
    "\n",
    "    rot_min = np.min(np.concatenate((rotations, rotations_other)))\n",
    "    rot_max = np.max(np.concatenate((rotations, rotations_other)))\n",
    "    rot_range = rot_max - rot_min\n",
    "    rot_pad = 0.1 * rot_range\n",
    "    rot_min -= rot_pad\n",
    "    rot_max += rot_pad\n",
    "\n",
    "    # Translation plots\n",
    "    labels = ['x', 'y', 'z']\n",
    "    for i in range(3):\n",
    "        axs[i,0].plot(time, translations[:,i], 'b-')\n",
    "        axs[i,0].plot(time, translations_other[:,i], 'g--')\n",
    "        axs[i,0].set_ylim(trans_min, trans_max)\n",
    "        axs[i,0].set_ylabel(f'{labels[i]} [mm]', rotation=0, ha='right')\n",
    "        axs[i,0].grid(True, axis='y', linestyle='--', alpha=0.3)\n",
    "        axs[i,0].axhline(y=0, color='k', linestyle='-', alpha=0.1)\n",
    "        \n",
    "        if i < 2:\n",
    "            axs[i,0].set_xticklabels([])\n",
    "\n",
    "    # Rotation plots        \n",
    "    labels = [r'$\\theta_x$', r'$\\theta_y$', r'$\\theta_z$']\n",
    "    for i in range(3):\n",
    "        axs[i,1].plot(time, rotations[:,i], 'r-')\n",
    "        axs[i,1].plot(time, rotations_other[:,i], 'k:')\n",
    "        axs[i,1].set_ylim(rot_min, rot_max)\n",
    "        axs[i,1].set_ylabel(f'{labels[i]} [deg]', rotation=0, ha='right')\n",
    "        axs[i,1].grid(True, axis='y', linestyle='--', alpha=0.3)\n",
    "        axs[i,1].axhline(y=0, color='k', linestyle='-', alpha=0.1)\n",
    "        \n",
    "        if i < 2:\n",
    "            axs[i,1].set_xticklabels([])\n",
    "\n",
    "    # X-axis labels\n",
    "    axs[2,0].set_xlabel('Timesteps')\n",
    "    axs[2,1].set_xlabel('Timesteps')\n",
    "\n",
    "    plt.tight_layout()"
   ]
  },
  {
   "cell_type": "markdown",
   "id": "280944f5",
   "metadata": {},
   "source": [
    "## Experiment zone\n",
    "\n",
    "Different goal positions (0 rotations) in the xy-plane: 1 mm raster, +/- 50 mm from the origin (100*100=10000 data points)\n",
    "\n",
    "Heatmaps show:\n",
    "\n",
    "1) maximum deviation magnitudes\n",
    "2) x, y, z components of the maximum deviation vector"
   ]
  },
  {
   "cell_type": "code",
   "execution_count": 7,
   "id": "08258d73",
   "metadata": {},
   "outputs": [],
   "source": [
    "def plot_heatmap(data, x_label=\"x [mm]\", y_label=\"y [mm]\", title=\"Heatmap\", cmap=\"viridis\", limit=10):\n",
    "    \"\"\"\n",
    "    Plot a 2D NumPy array as a heatmap.\n",
    "\n",
    "    Args:\n",
    "        data: 2D NumPy array to be visualized as a heatmap.\n",
    "        x_label: Label for the x-axis (default: \"x [mm]\").\n",
    "        y_label: Label for the y-axis (default: \"y [mm]\").\n",
    "        title: Title of the heatmap (default: \"Heatmap\").\n",
    "        cmap: Colormap to use for the heatmap (default: \"viridis\").\n",
    "    \"\"\"\n",
    "    plt.figure(figsize=(8, 6))\n",
    "    plt.imshow(data, cmap=cmap, aspect='auto', extent=[-limit-0.5, limit+0.5, -limit-0.5, limit+0.5])\n",
    "    plt.colorbar(label=\"Value [mm]\")\n",
    "    plt.xlabel(x_label)\n",
    "    plt.ylabel(y_label)\n",
    "    plt.title(title)\n",
    "    plt.tight_layout()\n",
    "    plt.show()"
   ]
  },
  {
   "cell_type": "markdown",
   "id": "34bf54a1",
   "metadata": {},
   "source": [
    "### Bar length error sensitivity (random sampling)"
   ]
  },
  {
   "cell_type": "code",
   "execution_count": 8,
   "id": "aa66185b",
   "metadata": {},
   "outputs": [
    {
     "name": "stdout",
     "output_type": "stream",
     "text": [
      "\n",
      "Test position: (-30, -30, 0) mm\n",
      "max_pose_error: [8.81222534e-04 9.51710308e-04 1.93220108e-04 7.46784719e-02\n",
      " 7.11570015e-02 3.37991645e-01]\n",
      "\n",
      "Test position: (-30, -25, 0) mm\n",
      "max_pose_error: [7.28245846e-04 7.58290338e-04 1.74111438e-04 7.64069195e-02\n",
      " 6.19952779e-02 3.84275566e-01]\n",
      "\n",
      "Test position: (-30, -20, 0) mm\n",
      "max_pose_error: [7.83776576e-04 7.91376614e-04 1.60076199e-04 6.85560076e-02\n",
      " 5.89096428e-02 3.38098944e-01]\n",
      "\n",
      "Test position: (-30, -15, 0) mm\n",
      "max_pose_error: [7.21313905e-04 8.52358370e-04 2.19391821e-04 7.15775615e-02\n",
      " 5.70891104e-02 4.14083069e-01]\n",
      "\n",
      "Test position: (-30, -10, 0) mm\n",
      "max_pose_error: [8.91075258e-04 6.97090993e-04 1.34214593e-04 6.19547940e-02\n",
      " 5.74427809e-02 3.34145544e-01]\n",
      "\n",
      "Test position: (-30, -5, 0) mm\n",
      "max_pose_error: [7.08708280e-04 7.30482993e-04 1.11905976e-04 7.55078698e-02\n",
      " 5.84723201e-02 3.87191036e-01]\n",
      "\n",
      "Test position: (-30, 0, 0) mm\n",
      "max_pose_error: [8.41032887e-04 7.27987516e-04 1.69803709e-04 7.13159223e-02\n",
      " 7.35378751e-02 3.27438871e-01]\n",
      "\n",
      "Test position: (-30, 5, 0) mm\n",
      "max_pose_error: [7.48858860e-04 8.08220701e-04 1.39821644e-04 7.25417018e-02\n",
      " 6.23765175e-02 3.14027735e-01]\n",
      "\n",
      "Test position: (-30, 10, 0) mm\n",
      "max_pose_error: [6.84290606e-04 8.56081999e-04 2.29391754e-04 6.71819850e-02\n",
      " 6.07502759e-02 3.53562452e-01]\n",
      "\n",
      "Test position: (-30, 15, 0) mm\n",
      "max_pose_error: [7.96022298e-04 8.31100112e-04 1.50510955e-04 7.46024654e-02\n",
      " 7.57415394e-02 3.30081725e-01]\n",
      "\n",
      "Test position: (-30, 20, 0) mm\n",
      "max_pose_error: [8.46133720e-04 7.87735957e-04 1.57857924e-04 6.82208425e-02\n",
      " 7.06227673e-02 3.34031559e-01]\n",
      "\n",
      "Test position: (-30, 25, 0) mm\n",
      "max_pose_error: [8.33237934e-04 7.78324931e-04 1.30241514e-04 6.57624747e-02\n",
      " 6.41630677e-02 3.31679890e-01]\n",
      "\n",
      "Test position: (-30, 30, 0) mm\n",
      "max_pose_error: [8.40265510e-04 7.45120746e-04 2.20699980e-04 7.37708620e-02\n",
      " 6.71480148e-02 3.73062380e-01]\n",
      "\n",
      "Test position: (-25, -30, 0) mm\n",
      "max_pose_error: [6.65903991e-04 8.66532447e-04 2.03435943e-04 7.34953191e-02\n",
      " 5.65396596e-02 3.63923607e-01]\n",
      "\n",
      "Test position: (-25, -25, 0) mm\n",
      "max_pose_error: [8.58342998e-04 7.50236275e-04 1.52826747e-04 7.26707332e-02\n",
      " 6.76223387e-02 3.03454449e-01]\n",
      "\n",
      "Test position: (-25, -20, 0) mm\n",
      "max_pose_error: [7.64108789e-04 7.65672660e-04 1.42326373e-04 8.64585415e-02\n",
      " 6.21126490e-02 3.36254892e-01]\n",
      "\n",
      "Test position: (-25, -15, 0) mm\n",
      "max_pose_error: [8.14842208e-04 6.83078980e-04 1.57456229e-04 6.05923874e-02\n",
      " 5.80707924e-02 2.91267767e-01]\n",
      "\n",
      "Test position: (-25, -10, 0) mm\n",
      "max_pose_error: [9.72153494e-04 8.38534721e-04 1.22358854e-04 7.15715636e-02\n",
      " 5.91654856e-02 3.46306804e-01]\n",
      "\n",
      "Test position: (-25, -5, 0) mm\n",
      "max_pose_error: [7.38194377e-04 6.25119069e-04 1.35735581e-04 6.36580385e-02\n",
      " 5.69644597e-02 2.95921087e-01]\n",
      "\n",
      "Test position: (-25, 0, 0) mm\n",
      "max_pose_error: [7.62219478e-04 8.75642634e-04 1.53409911e-04 6.64430191e-02\n",
      " 5.47061902e-02 3.26124292e-01]\n",
      "\n",
      "Test position: (-25, 5, 0) mm\n",
      "max_pose_error: [7.06951429e-04 7.36318747e-04 1.01483788e-04 6.57898513e-02\n",
      " 6.17427640e-02 3.74768562e-01]\n",
      "\n",
      "Test position: (-25, 10, 0) mm\n",
      "max_pose_error: [9.61086453e-04 8.85136219e-04 1.37372698e-04 7.51434797e-02\n",
      " 5.28710132e-02 3.95075625e-01]\n",
      "\n",
      "Test position: (-25, 15, 0) mm\n",
      "max_pose_error: [8.43817395e-04 9.02842516e-04 2.00381123e-04 5.79645485e-02\n",
      " 5.97781402e-02 3.35110219e-01]\n",
      "\n",
      "Test position: (-25, 20, 0) mm\n",
      "max_pose_error: [7.48207057e-04 9.00689427e-04 1.50239322e-04 6.27339535e-02\n",
      " 6.69830887e-02 2.97341750e-01]\n",
      "\n",
      "Test position: (-25, 25, 0) mm\n",
      "max_pose_error: [7.43579826e-04 9.04036067e-04 2.27034439e-04 6.93964394e-02\n",
      " 6.76771399e-02 3.09609832e-01]\n",
      "\n",
      "Test position: (-25, 30, 0) mm\n",
      "max_pose_error: [8.31409222e-04 7.22891698e-04 2.17032166e-04 7.22934973e-02\n",
      " 7.11291626e-02 2.92682221e-01]\n",
      "\n",
      "Test position: (-20, -30, 0) mm\n",
      "max_pose_error: [8.03304660e-04 6.45186003e-04 1.18085761e-04 6.52328686e-02\n",
      " 6.31320938e-02 3.46750935e-01]\n",
      "\n",
      "Test position: (-20, -25, 0) mm\n",
      "max_pose_error: [9.18567299e-04 7.39907672e-04 1.44411945e-04 6.87869231e-02\n",
      " 6.40901696e-02 3.20426738e-01]\n",
      "\n",
      "Test position: (-20, -20, 0) mm\n",
      "max_pose_error: [7.97915218e-04 7.75401407e-04 1.70345576e-04 6.78467743e-02\n",
      " 6.41353446e-02 3.52778490e-01]\n",
      "\n",
      "Test position: (-20, -15, 0) mm\n",
      "max_pose_error: [7.79849063e-04 9.01816681e-04 9.39493178e-05 5.68219115e-02\n",
      " 5.04502778e-02 3.77911560e-01]\n",
      "\n",
      "Test position: (-20, -10, 0) mm\n",
      "max_pose_error: [8.75007496e-04 7.77662553e-04 1.48448906e-04 6.41567982e-02\n",
      " 5.65711795e-02 3.10672167e-01]\n",
      "\n",
      "Test position: (-20, -5, 0) mm\n",
      "max_pose_error: [7.40624368e-04 8.16898840e-04 1.37306735e-04 5.70878891e-02\n",
      " 5.40121882e-02 3.33601313e-01]\n",
      "\n",
      "Test position: (-20, 0, 0) mm\n",
      "max_pose_error: [8.76586482e-04 6.38523138e-04 1.02084549e-04 6.61551136e-02\n",
      " 5.76659437e-02 4.13619821e-01]\n",
      "\n",
      "Test position: (-20, 5, 0) mm\n",
      "max_pose_error: [7.82324561e-04 8.56534464e-04 9.64820395e-05 6.73957370e-02\n",
      " 6.33620126e-02 4.20524067e-01]\n",
      "\n",
      "Test position: (-20, 10, 0) mm\n",
      "max_pose_error: [8.91759716e-04 8.46182736e-04 1.06659340e-04 6.69582992e-02\n",
      " 4.92730445e-02 2.96503340e-01]\n",
      "\n",
      "Test position: (-20, 15, 0) mm\n",
      "max_pose_error: [6.85627177e-04 7.89158561e-04 8.27457013e-05 6.19968709e-02\n",
      " 6.64346070e-02 3.40545964e-01]\n",
      "\n",
      "Test position: (-20, 20, 0) mm\n",
      "max_pose_error: [8.08425156e-04 8.21292211e-04 1.96085131e-04 5.23441584e-02\n",
      " 6.11542696e-02 3.38771697e-01]\n",
      "\n",
      "Test position: (-20, 25, 0) mm\n",
      "max_pose_error: [7.88282741e-04 7.27067809e-04 1.12640015e-04 6.52217951e-02\n",
      " 7.40265607e-02 2.79516608e-01]\n",
      "\n",
      "Test position: (-20, 30, 0) mm\n",
      "max_pose_error: [9.76875946e-04 8.74663825e-04 2.26579616e-04 6.36199242e-02\n",
      " 6.45092669e-02 4.10029568e-01]\n",
      "\n",
      "Test position: (-15, -30, 0) mm\n",
      "max_pose_error: [6.79103606e-04 9.01156682e-04 1.70631476e-04 5.70762967e-02\n",
      " 6.85715698e-02 3.27417532e-01]\n",
      "\n",
      "Test position: (-15, -25, 0) mm\n",
      "max_pose_error: [8.07233879e-04 8.30892513e-04 1.29562390e-04 5.36060039e-02\n",
      " 6.31288688e-02 3.36015143e-01]\n",
      "\n",
      "Test position: (-15, -20, 0) mm\n",
      "max_pose_error: [8.35546674e-04 6.80322289e-04 1.59348137e-04 6.39420301e-02\n",
      " 6.69327910e-02 2.90752713e-01]\n",
      "\n",
      "Test position: (-15, -15, 0) mm\n",
      "max_pose_error: [7.95762460e-04 7.90830122e-04 1.15470211e-04 5.58137078e-02\n",
      " 6.47507736e-02 2.85496489e-01]\n",
      "\n",
      "Test position: (-15, -10, 0) mm\n",
      "max_pose_error: [1.07102696e-03 8.98306556e-04 9.30547014e-05 5.84015613e-02\n",
      " 5.56200495e-02 3.86659163e-01]\n",
      "\n",
      "Test position: (-15, -5, 0) mm\n",
      "max_pose_error: [8.28451190e-04 8.16286091e-04 9.39439918e-05 5.65825251e-02\n",
      " 5.46005262e-02 3.19985791e-01]\n",
      "\n",
      "Test position: (-15, 0, 0) mm\n",
      "max_pose_error: [8.26733616e-04 7.82227465e-04 1.21091123e-04 6.78380345e-02\n",
      " 4.69727777e-02 3.90174170e-01]\n",
      "\n",
      "Test position: (-15, 5, 0) mm\n",
      "max_pose_error: [9.14526810e-04 6.93874240e-04 9.49372841e-05 6.33588217e-02\n",
      " 6.03492184e-02 2.95971618e-01]\n",
      "\n",
      "Test position: (-15, 10, 0) mm\n",
      "max_pose_error: [8.26896620e-04 7.58365902e-04 1.48586609e-04 5.58905391e-02\n",
      " 6.62957616e-02 3.93739632e-01]\n",
      "\n",
      "Test position: (-15, 15, 0) mm\n",
      "max_pose_error: [8.95325750e-04 6.61203808e-04 1.28120211e-04 5.72187639e-02\n",
      " 5.46472700e-02 3.07564173e-01]\n",
      "\n",
      "Test position: (-15, 20, 0) mm\n",
      "max_pose_error: [7.57251948e-04 8.44340573e-04 1.16962761e-04 5.73559633e-02\n",
      " 6.35587909e-02 3.49865670e-01]\n",
      "\n",
      "Test position: (-15, 25, 0) mm\n",
      "max_pose_error: [8.64445182e-04 7.87889282e-04 1.45880153e-04 6.97082790e-02\n",
      " 8.63117299e-02 4.25403900e-01]\n",
      "\n",
      "Test position: (-15, 30, 0) mm\n",
      "max_pose_error: [8.55872207e-04 5.86858398e-04 1.31620677e-04 6.23199639e-02\n",
      " 6.80883356e-02 3.24245235e-01]\n",
      "\n",
      "Test position: (-10, -30, 0) mm\n",
      "max_pose_error: [9.23184854e-04 7.73483945e-04 1.90093508e-04 5.78080575e-02\n",
      " 6.98080075e-02 3.91231279e-01]\n",
      "\n",
      "Test position: (-10, -25, 0) mm\n",
      "max_pose_error: [7.63323639e-04 8.36780606e-04 1.42948262e-04 5.91446034e-02\n",
      " 5.91534994e-02 3.44032433e-01]\n",
      "\n",
      "Test position: (-10, -20, 0) mm\n",
      "max_pose_error: [8.24474782e-04 8.84050386e-04 1.22812477e-04 5.84391520e-02\n",
      " 6.15902208e-02 4.10971227e-01]\n",
      "\n",
      "Test position: (-10, -15, 0) mm\n",
      "max_pose_error: [7.58417602e-04 8.12340049e-04 9.13922711e-05 6.24000376e-02\n",
      " 5.77731096e-02 3.93484943e-01]\n",
      "\n",
      "Test position: (-10, -10, 0) mm\n",
      "max_pose_error: [7.75673480e-04 9.82346664e-04 7.99443141e-05 6.05222510e-02\n",
      " 6.45412643e-02 3.32914300e-01]\n",
      "\n",
      "Test position: (-10, -5, 0) mm\n",
      "max_pose_error: [9.12077804e-04 8.06669845e-04 7.97041377e-05 5.29939759e-02\n",
      " 5.25428450e-02 3.60117644e-01]\n",
      "\n",
      "Test position: (-10, 0, 0) mm\n",
      "max_pose_error: [8.25867930e-04 8.18046521e-04 9.21544208e-05 5.01354254e-02\n",
      " 6.65142865e-02 3.13693011e-01]\n",
      "\n",
      "Test position: (-10, 5, 0) mm\n",
      "max_pose_error: [7.63605631e-04 8.55136337e-04 9.62633980e-05 6.86164142e-02\n",
      " 5.43029905e-02 3.21532546e-01]\n",
      "\n",
      "Test position: (-10, 10, 0) mm\n",
      "max_pose_error: [7.94910794e-04 8.63113340e-04 1.08791673e-04 5.83948265e-02\n",
      " 7.11215650e-02 3.35107914e-01]\n",
      "\n",
      "Test position: (-10, 15, 0) mm\n",
      "max_pose_error: [9.12824500e-04 8.98621778e-04 1.04546317e-04 5.52978371e-02\n",
      " 5.39896613e-02 3.35928205e-01]\n",
      "\n",
      "Test position: (-10, 20, 0) mm\n",
      "max_pose_error: [8.32310401e-04 9.22686648e-04 1.31819922e-04 6.42762025e-02\n",
      " 6.62005011e-02 3.06193607e-01]\n",
      "\n",
      "Test position: (-10, 25, 0) mm\n",
      "max_pose_error: [7.52472665e-04 9.71753596e-04 1.01783050e-04 5.37709729e-02\n",
      " 5.84311535e-02 2.78745568e-01]\n",
      "\n",
      "Test position: (-10, 30, 0) mm\n",
      "max_pose_error: [8.81658181e-04 9.01565484e-04 1.69703244e-04 5.91186228e-02\n",
      " 6.26472167e-02 3.09178383e-01]\n",
      "\n",
      "Test position: (-5, -30, 0) mm\n",
      "max_pose_error: [7.89565175e-04 7.19618821e-04 1.50617864e-04 5.37675849e-02\n",
      " 6.96305103e-02 3.78644955e-01]\n",
      "\n",
      "Test position: (-5, -25, 0) mm\n",
      "max_pose_error: [8.04145655e-04 6.98274798e-04 1.41434194e-04 6.01302740e-02\n",
      " 6.52845417e-02 3.49316753e-01]\n",
      "\n",
      "Test position: (-5, -20, 0) mm\n",
      "max_pose_error: [8.38774909e-04 7.49674151e-04 1.36906608e-04 6.60846585e-02\n",
      " 6.89712675e-02 3.22023521e-01]\n",
      "\n",
      "Test position: (-5, -15, 0) mm\n",
      "max_pose_error: [8.79693267e-04 8.20482381e-04 1.53402753e-04 5.91767054e-02\n",
      " 6.58991830e-02 3.44346082e-01]\n",
      "\n",
      "Test position: (-5, -10, 0) mm\n",
      "max_pose_error: [7.08005062e-04 7.73286845e-04 7.45153770e-05 4.72329858e-02\n",
      " 6.21215618e-02 3.34044035e-01]\n",
      "\n",
      "Test position: (-5, -5, 0) mm\n",
      "max_pose_error: [7.46360044e-04 9.62226103e-04 9.11922195e-05 6.36033332e-02\n",
      " 6.08114579e-02 3.83204139e-01]\n",
      "\n",
      "Test position: (-5, 0, 0) mm\n",
      "max_pose_error: [8.79025394e-04 6.61932939e-04 5.95615593e-05 6.43937341e-02\n",
      " 6.12687462e-02 3.12662822e-01]\n",
      "\n",
      "Test position: (-5, 5, 0) mm\n",
      "max_pose_error: [8.46860422e-04 7.42282087e-04 8.98434110e-05 5.56179837e-02\n",
      " 5.59065903e-02 4.06751510e-01]\n",
      "\n",
      "Test position: (-5, 10, 0) mm\n",
      "max_pose_error: [7.33087293e-04 7.25649165e-04 8.21810655e-05 6.80948100e-02\n",
      " 6.08623284e-02 4.34097205e-01]\n",
      "\n",
      "Test position: (-5, 15, 0) mm\n",
      "max_pose_error: [8.64440196e-04 9.18099113e-04 1.02191383e-04 5.42433523e-02\n",
      " 5.81961050e-02 3.83784640e-01]\n",
      "\n",
      "Test position: (-5, 20, 0) mm\n",
      "max_pose_error: [7.55093223e-04 8.28263688e-04 8.65487958e-05 5.97983462e-02\n",
      " 6.90998981e-02 3.35425349e-01]\n",
      "\n",
      "Test position: (-5, 25, 0) mm\n",
      "max_pose_error: [8.73681059e-04 8.31118519e-04 1.01851877e-04 4.75873318e-02\n",
      " 7.91987292e-02 3.79161480e-01]\n",
      "\n",
      "Test position: (-5, 30, 0) mm\n",
      "max_pose_error: [1.03713467e-03 9.27951321e-04 1.72431875e-04 5.59552780e-02\n",
      " 6.39725725e-02 3.29194387e-01]\n",
      "\n",
      "Test position: (0, -30, 0) mm\n",
      "max_pose_error: [9.24233047e-04 7.66903451e-04 1.37855793e-04 6.49898899e-02\n",
      " 6.77832157e-02 3.32540312e-01]\n",
      "\n",
      "Test position: (0, -25, 0) mm\n",
      "max_pose_error: [8.71738817e-04 6.85099363e-04 1.44995003e-04 6.18943183e-02\n",
      " 6.37768328e-02 3.46288699e-01]\n",
      "\n",
      "Test position: (0, -20, 0) mm\n",
      "max_pose_error: [7.32341015e-04 7.67125036e-04 1.11657933e-04 5.82124254e-02\n",
      " 6.45439074e-02 2.83407428e-01]\n",
      "\n",
      "Test position: (0, -15, 0) mm\n",
      "max_pose_error: [7.22087607e-04 7.58447728e-04 1.00442812e-04 5.85099745e-02\n",
      " 5.98997530e-02 3.68736855e-01]\n",
      "\n",
      "Test position: (0, -10, 0) mm\n",
      "max_pose_error: [8.28547198e-04 8.11179476e-04 7.54806984e-05 6.23727853e-02\n",
      " 5.51591774e-02 4.04589057e-01]\n",
      "\n",
      "Test position: (0, -5, 0) mm\n",
      "max_pose_error: [7.90713344e-04 7.84781965e-04 9.27754228e-05 5.43377788e-02\n",
      " 5.75480148e-02 3.41328933e-01]\n",
      "\n",
      "Test position: (0, 0, 0) mm\n",
      "max_pose_error: [8.52429260e-04 7.08122177e-04 6.09670846e-05 6.09367797e-02\n",
      " 5.13526664e-02 2.97145806e-01]\n",
      "\n",
      "Test position: (0, 5, 0) mm\n",
      "max_pose_error: [7.80428470e-04 8.79684264e-04 7.80895658e-05 6.91598121e-02\n",
      " 4.91590242e-02 3.42889244e-01]\n",
      "\n",
      "Test position: (0, 10, 0) mm\n",
      "max_pose_error: [8.48087196e-04 8.84589566e-04 7.28061207e-05 5.92727741e-02\n",
      " 6.89003204e-02 2.75567110e-01]\n",
      "\n",
      "Test position: (0, 15, 0) mm\n",
      "max_pose_error: [8.10047141e-04 7.94235497e-04 8.14968860e-05 5.21951306e-02\n",
      " 5.55171115e-02 3.74181341e-01]\n",
      "\n",
      "Test position: (0, 20, 0) mm\n",
      "max_pose_error: [7.87945861e-04 8.66229352e-04 9.74886479e-05 5.42696236e-02\n",
      " 6.64515158e-02 3.79919114e-01]\n",
      "\n",
      "Test position: (0, 25, 0) mm\n",
      "max_pose_error: [6.67948886e-04 9.55244965e-04 1.02702309e-04 6.88260512e-02\n",
      " 7.73152177e-02 3.45996913e-01]\n",
      "\n",
      "Test position: (0, 30, 0) mm\n",
      "max_pose_error: [8.41148323e-04 8.04410229e-04 1.80239150e-04 6.07135228e-02\n",
      " 6.31608776e-02 3.29547168e-01]\n",
      "\n",
      "Test position: (5, -30, 0) mm\n",
      "max_pose_error: [7.47661995e-04 8.49978443e-04 1.72609395e-04 5.14677949e-02\n",
      " 6.31719656e-02 3.83792474e-01]\n",
      "\n",
      "Test position: (5, -25, 0) mm\n",
      "max_pose_error: [8.56335452e-04 8.00183445e-04 1.13464514e-04 6.54958649e-02\n",
      " 5.91426697e-02 3.34091224e-01]\n",
      "\n",
      "Test position: (5, -20, 0) mm\n",
      "max_pose_error: [7.38534678e-04 7.87612405e-04 1.07138448e-04 5.75317691e-02\n",
      " 6.61493844e-02 3.12079774e-01]\n",
      "\n",
      "Test position: (5, -15, 0) mm\n",
      "max_pose_error: [7.33709728e-04 8.60142796e-04 7.70236184e-05 6.35733815e-02\n",
      " 6.00012189e-02 3.59100414e-01]\n",
      "\n",
      "Test position: (5, -10, 0) mm\n",
      "max_pose_error: [6.99124042e-04 7.69779278e-04 1.08969183e-04 6.96778535e-02\n",
      " 5.80714208e-02 3.66026681e-01]\n",
      "\n",
      "Test position: (5, -5, 0) mm\n",
      "max_pose_error: [8.89672248e-04 1.02893731e-03 6.75665934e-05 4.90532148e-02\n",
      " 5.86442419e-02 3.65628231e-01]\n",
      "\n",
      "Test position: (5, 0, 0) mm\n",
      "max_pose_error: [7.98368792e-04 6.89873627e-04 6.11871597e-05 5.42830785e-02\n",
      " 5.86374332e-02 3.97038220e-01]\n",
      "\n",
      "Test position: (5, 5, 0) mm\n",
      "max_pose_error: [7.01747706e-04 8.76257615e-04 8.66281666e-05 5.81843173e-02\n",
      " 4.86881635e-02 3.79869850e-01]\n",
      "\n",
      "Test position: (5, 10, 0) mm\n",
      "max_pose_error: [7.51410020e-04 9.13914419e-04 9.53098911e-05 5.73223690e-02\n",
      " 6.10426971e-02 3.00477829e-01]\n",
      "\n",
      "Test position: (5, 15, 0) mm\n",
      "max_pose_error: [7.69410211e-04 8.65790766e-04 1.09705086e-04 6.56319037e-02\n",
      " 6.10859053e-02 3.52676977e-01]\n",
      "\n",
      "Test position: (5, 20, 0) mm\n",
      "max_pose_error: [8.03156055e-04 8.68421947e-04 9.91630916e-05 5.41770645e-02\n",
      " 7.42320554e-02 3.13225820e-01]\n",
      "\n",
      "Test position: (5, 25, 0) mm\n",
      "max_pose_error: [7.37577175e-04 8.65355013e-04 1.51910670e-04 6.84417149e-02\n",
      " 7.80466893e-02 3.37171447e-01]\n",
      "\n",
      "Test position: (5, 30, 0) mm\n",
      "max_pose_error: [9.44572643e-04 7.79459648e-04 1.84833682e-04 6.57597141e-02\n",
      " 6.31535138e-02 3.99584731e-01]\n",
      "\n",
      "Test position: (10, -30, 0) mm\n",
      "max_pose_error: [8.00556581e-04 7.04008679e-04 1.19098389e-04 5.96013414e-02\n",
      " 6.14362796e-02 3.03353728e-01]\n",
      "\n",
      "Test position: (10, -25, 0) mm\n",
      "max_pose_error: [9.83993957e-04 6.88511969e-04 1.61440807e-04 7.22424637e-02\n",
      " 6.35056468e-02 3.43747500e-01]\n",
      "\n",
      "Test position: (10, -20, 0) mm\n",
      "max_pose_error: [7.90978570e-04 8.15504322e-04 1.36034393e-04 7.60411448e-02\n",
      " 6.21109442e-02 2.66876204e-01]\n",
      "\n",
      "Test position: (10, -15, 0) mm\n",
      "max_pose_error: [8.16106098e-04 8.80482918e-04 1.07765688e-04 5.51755710e-02\n",
      " 6.17276824e-02 3.32292858e-01]\n",
      "\n",
      "Test position: (10, -10, 0) mm\n",
      "max_pose_error: [8.21030454e-04 7.14746895e-04 9.64736555e-05 6.67535428e-02\n",
      " 6.32761362e-02 4.64344521e-01]\n",
      "\n",
      "Test position: (10, -5, 0) mm\n",
      "max_pose_error: [7.08533210e-04 6.98349791e-04 1.04637357e-04 7.21361555e-02\n",
      " 6.45755760e-02 4.10762714e-01]\n",
      "\n",
      "Test position: (10, 0, 0) mm\n",
      "max_pose_error: [7.08004734e-04 9.77046670e-04 6.86881176e-05 5.73495701e-02\n",
      " 7.15323811e-02 2.94362765e-01]\n",
      "\n",
      "Test position: (10, 5, 0) mm\n",
      "max_pose_error: [7.65163251e-04 9.62770297e-04 8.69090703e-05 5.55519536e-02\n",
      " 6.35579994e-02 4.00469486e-01]\n",
      "\n",
      "Test position: (10, 10, 0) mm\n",
      "max_pose_error: [8.36811970e-04 6.89818233e-04 8.58437793e-05 5.99273758e-02\n",
      " 5.50287179e-02 3.62279839e-01]\n",
      "\n",
      "Test position: (10, 15, 0) mm\n",
      "max_pose_error: [7.87334931e-04 8.61552938e-04 7.72114483e-05 5.97020166e-02\n",
      " 5.91103115e-02 3.72855059e-01]\n",
      "\n",
      "Test position: (10, 20, 0) mm\n",
      "max_pose_error: [7.79847951e-04 6.66037196e-04 1.75630084e-04 6.48019933e-02\n",
      " 6.44519220e-02 4.34501109e-01]\n",
      "\n",
      "Test position: (10, 25, 0) mm\n",
      "max_pose_error: [9.15807279e-04 6.57643105e-04 1.17321051e-04 6.59237501e-02\n",
      " 6.83897552e-02 2.94709319e-01]\n",
      "\n",
      "Test position: (10, 30, 0) mm\n",
      "max_pose_error: [6.28990224e-04 7.71405104e-04 1.49192048e-04 6.32266482e-02\n",
      " 7.93868856e-02 3.31258152e-01]\n",
      "\n",
      "Test position: (15, -30, 0) mm\n",
      "max_pose_error: [7.73061038e-04 8.44950786e-04 2.02445040e-04 6.48322111e-02\n",
      " 6.51303254e-02 3.53013205e-01]\n",
      "\n",
      "Test position: (15, -25, 0) mm\n",
      "max_pose_error: [8.92031016e-04 8.60275024e-04 1.86108102e-04 6.15820914e-02\n",
      " 6.65520553e-02 4.14933462e-01]\n",
      "\n",
      "Test position: (15, -20, 0) mm\n",
      "max_pose_error: [8.37692438e-04 6.36603397e-04 1.27474749e-04 7.13373665e-02\n",
      " 6.16518091e-02 3.41321968e-01]\n",
      "\n",
      "Test position: (15, -15, 0) mm\n",
      "max_pose_error: [7.56975217e-04 7.59475284e-04 1.04728687e-04 6.17628515e-02\n",
      " 5.90874885e-02 3.62474914e-01]\n",
      "\n",
      "Test position: (15, -10, 0) mm\n",
      "max_pose_error: [6.76712288e-04 8.11523220e-04 1.18872300e-04 6.45689527e-02\n",
      " 5.11644638e-02 3.46266614e-01]\n",
      "\n",
      "Test position: (15, -5, 0) mm\n",
      "max_pose_error: [8.59029828e-04 8.70776819e-04 9.63335700e-05 6.57013886e-02\n",
      " 5.88754469e-02 2.91869961e-01]\n",
      "\n",
      "Test position: (15, 0, 0) mm\n",
      "max_pose_error: [7.20317014e-04 7.95880982e-04 6.59838304e-05 5.39841494e-02\n",
      " 6.34650197e-02 4.26076094e-01]\n",
      "\n",
      "Test position: (15, 5, 0) mm\n",
      "max_pose_error: [7.99467321e-04 7.07099453e-04 1.11463052e-04 5.51505073e-02\n",
      " 5.76278947e-02 3.29183727e-01]\n",
      "\n",
      "Test position: (15, 10, 0) mm\n",
      "max_pose_error: [7.48285502e-04 7.92334892e-04 1.29831349e-04 5.89550323e-02\n",
      " 6.07099517e-02 3.25695967e-01]\n",
      "\n",
      "Test position: (15, 15, 0) mm\n",
      "max_pose_error: [8.01496325e-04 7.41325038e-04 1.50368118e-04 5.51463871e-02\n",
      " 6.92853143e-02 3.00254319e-01]\n",
      "\n",
      "Test position: (15, 20, 0) mm\n",
      "max_pose_error: [7.96608401e-04 9.22999418e-04 1.85314496e-04 6.29001740e-02\n",
      " 6.56379922e-02 3.45459830e-01]\n",
      "\n",
      "Test position: (15, 25, 0) mm\n",
      "max_pose_error: [8.68329860e-04 8.20135356e-04 1.26980528e-04 7.36065566e-02\n",
      " 6.72063386e-02 3.44625208e-01]\n",
      "\n",
      "Test position: (15, 30, 0) mm\n",
      "max_pose_error: [7.31321708e-04 6.87293263e-04 1.87923791e-04 5.44310794e-02\n",
      " 9.94811269e-02 3.29281825e-01]\n",
      "\n",
      "Test position: (20, -30, 0) mm\n",
      "max_pose_error: [7.36068865e-04 7.71731683e-04 1.56301444e-04 6.12659829e-02\n",
      " 6.16214633e-02 3.24468156e-01]\n",
      "\n",
      "Test position: (20, -25, 0) mm\n",
      "max_pose_error: [7.93548782e-04 8.07729770e-04 1.76942509e-04 6.43124487e-02\n",
      " 5.69250722e-02 3.43798854e-01]\n",
      "\n",
      "Test position: (20, -20, 0) mm\n",
      "max_pose_error: [8.28001545e-04 9.07854752e-04 1.22765460e-04 5.78317489e-02\n",
      " 6.19550775e-02 2.75983907e-01]\n",
      "\n",
      "Test position: (20, -15, 0) mm\n",
      "max_pose_error: [7.99973569e-04 8.21517092e-04 1.66457630e-04 7.30385264e-02\n",
      " 6.04576902e-02 3.34688232e-01]\n",
      "\n",
      "Test position: (20, -10, 0) mm\n",
      "max_pose_error: [7.72921985e-04 8.70791290e-04 9.68918422e-05 5.62767194e-02\n",
      " 5.95512668e-02 3.43409288e-01]\n",
      "\n",
      "Test position: (20, -5, 0) mm\n",
      "max_pose_error: [9.10560360e-04 7.68017403e-04 1.50096041e-04 5.30166001e-02\n",
      " 4.75690518e-02 3.61362975e-01]\n",
      "\n",
      "Test position: (20, 0, 0) mm\n",
      "max_pose_error: [7.93882062e-04 8.75215390e-04 1.41778832e-04 7.28254583e-02\n",
      " 6.45669434e-02 3.61805972e-01]\n",
      "\n",
      "Test position: (20, 5, 0) mm\n",
      "max_pose_error: [8.03132615e-04 8.61489736e-04 9.45497120e-05 6.91931176e-02\n",
      " 7.60581456e-02 3.31250491e-01]\n",
      "\n",
      "Test position: (20, 10, 0) mm\n",
      "max_pose_error: [7.38158026e-04 8.29884338e-04 1.11881949e-04 6.58757261e-02\n",
      " 5.27107351e-02 3.85305570e-01]\n",
      "\n",
      "Test position: (20, 15, 0) mm\n",
      "max_pose_error: [1.00186430e-03 8.72721613e-04 1.83807364e-04 6.36604785e-02\n",
      " 6.65652286e-02 3.93491333e-01]\n",
      "\n",
      "Test position: (20, 20, 0) mm\n",
      "max_pose_error: [9.67042128e-04 7.92314115e-04 1.42257367e-04 6.21724785e-02\n",
      " 5.65958078e-02 3.89584827e-01]\n",
      "\n",
      "Test position: (20, 25, 0) mm\n",
      "max_pose_error: [6.82393666e-04 7.58969258e-04 2.18275732e-04 6.36251130e-02\n",
      " 7.18520066e-02 2.81591664e-01]\n",
      "\n",
      "Test position: (20, 30, 0) mm\n",
      "max_pose_error: [8.85432777e-04 8.49761718e-04 1.82738940e-04 7.04857063e-02\n",
      " 6.97285162e-02 3.12215568e-01]\n",
      "\n",
      "Test position: (25, -30, 0) mm\n",
      "max_pose_error: [7.71038199e-04 7.49851161e-04 1.34414435e-04 7.19764451e-02\n",
      " 7.15655872e-02 4.00356664e-01]\n",
      "\n",
      "Test position: (25, -25, 0) mm\n",
      "max_pose_error: [7.32809720e-04 9.25711198e-04 2.08349245e-04 7.25695828e-02\n",
      " 5.98444348e-02 3.33437691e-01]\n",
      "\n",
      "Test position: (25, -20, 0) mm\n",
      "max_pose_error: [7.19603698e-04 7.17128830e-04 1.04627361e-04 7.22813572e-02\n",
      " 6.38613351e-02 3.09478227e-01]\n",
      "\n",
      "Test position: (25, -15, 0) mm\n",
      "max_pose_error: [8.06011134e-04 7.96682234e-04 2.12226400e-04 7.41089630e-02\n",
      " 5.89421928e-02 3.03968526e-01]\n",
      "\n",
      "Test position: (25, -10, 0) mm\n",
      "max_pose_error: [8.31770248e-04 7.10306168e-04 1.23799839e-04 6.75522320e-02\n",
      " 6.70453153e-02 3.39427996e-01]\n",
      "\n",
      "Test position: (25, -5, 0) mm\n",
      "max_pose_error: [6.99009303e-04 8.02890423e-04 1.71197326e-04 7.65028142e-02\n",
      " 5.78080719e-02 3.18724942e-01]\n",
      "\n",
      "Test position: (25, 0, 0) mm\n",
      "max_pose_error: [7.75321372e-04 9.47632180e-04 9.99423346e-05 6.93400699e-02\n",
      " 7.44094429e-02 2.90016808e-01]\n",
      "\n",
      "Test position: (25, 5, 0) mm\n",
      "max_pose_error: [8.40348280e-04 8.65254843e-04 1.29418688e-04 6.53247613e-02\n",
      " 5.18241646e-02 4.29433275e-01]\n",
      "\n",
      "Test position: (25, 10, 0) mm\n",
      "max_pose_error: [7.98572165e-04 8.43312289e-04 1.29932195e-04 6.86060549e-02\n",
      " 5.90064261e-02 2.98700359e-01]\n",
      "\n",
      "Test position: (25, 15, 0) mm\n",
      "max_pose_error: [6.61089828e-04 7.56504963e-04 1.30854392e-04 6.45938775e-02\n",
      " 6.60111819e-02 3.87582941e-01]\n",
      "\n",
      "Test position: (25, 20, 0) mm\n",
      "max_pose_error: [8.32244204e-04 7.00253427e-04 1.78801320e-04 5.81300774e-02\n",
      " 6.93523999e-02 3.13095062e-01]\n",
      "\n",
      "Test position: (25, 25, 0) mm\n",
      "max_pose_error: [7.70688521e-04 7.41586273e-04 1.61187645e-04 6.51456354e-02\n",
      " 6.54394810e-02 3.85995603e-01]\n",
      "\n",
      "Test position: (25, 30, 0) mm\n",
      "max_pose_error: [8.19429118e-04 8.54730222e-04 1.33103868e-04 6.43696999e-02\n",
      " 6.88986136e-02 3.11914103e-01]\n",
      "\n",
      "Test position: (30, -30, 0) mm\n",
      "max_pose_error: [8.18577736e-04 7.44286240e-04 2.33084501e-04 7.06257835e-02\n",
      " 6.47194423e-02 3.73768163e-01]\n",
      "\n",
      "Test position: (30, -25, 0) mm\n",
      "max_pose_error: [8.09589562e-04 9.39141342e-04 2.45915703e-04 6.98647103e-02\n",
      " 6.61349129e-02 3.12603514e-01]\n",
      "\n",
      "Test position: (30, -20, 0) mm\n",
      "max_pose_error: [8.39654282e-04 7.17601611e-04 1.72465550e-04 6.86198702e-02\n",
      " 6.87069527e-02 3.99226356e-01]\n",
      "\n",
      "Test position: (30, -15, 0) mm\n",
      "max_pose_error: [8.12011436e-04 7.86598144e-04 2.10862651e-04 6.32877422e-02\n",
      " 6.20211413e-02 4.62033476e-01]\n",
      "\n",
      "Test position: (30, -10, 0) mm\n",
      "max_pose_error: [8.28611333e-04 9.25911880e-04 1.59040696e-04 6.41241113e-02\n",
      " 4.95989991e-02 3.39916221e-01]\n",
      "\n",
      "Test position: (30, -5, 0) mm\n",
      "max_pose_error: [7.98252993e-04 8.49620479e-04 1.67996729e-04 7.83996103e-02\n",
      " 5.51930781e-02 3.30517079e-01]\n",
      "\n",
      "Test position: (30, 0, 0) mm\n",
      "max_pose_error: [7.18607968e-04 7.03824453e-04 1.22959672e-04 8.22613622e-02\n",
      " 6.10448361e-02 3.56048408e-01]\n",
      "\n",
      "Test position: (30, 5, 0) mm\n",
      "max_pose_error: [9.00205086e-04 1.03184056e-03 1.68146437e-04 7.84274476e-02\n",
      " 6.07671858e-02 3.35288161e-01]\n",
      "\n",
      "Test position: (30, 10, 0) mm\n",
      "max_pose_error: [6.96038408e-04 7.03794871e-04 1.68232400e-04 7.92027379e-02\n",
      " 6.48595986e-02 3.64652988e-01]\n",
      "\n",
      "Test position: (30, 15, 0) mm\n",
      "max_pose_error: [8.41789521e-04 8.50127014e-04 1.31517113e-04 7.32544608e-02\n",
      " 5.71896706e-02 3.16180485e-01]\n",
      "\n",
      "Test position: (30, 20, 0) mm\n",
      "max_pose_error: [8.33610967e-04 7.64638776e-04 1.35979446e-04 7.52718932e-02\n",
      " 6.46371784e-02 4.02137830e-01]\n",
      "\n",
      "Test position: (30, 25, 0) mm\n",
      "max_pose_error: [7.77474011e-04 7.44758577e-04 1.74730552e-04 6.99479789e-02\n",
      " 6.54722650e-02 3.30082582e-01]\n",
      "\n",
      "Test position: (30, 30, 0) mm\n",
      "max_pose_error: [7.38481409e-04 7.47451805e-04 2.09103614e-04 6.95610624e-02\n",
      " 6.97737578e-02 3.62178267e-01]\n"
     ]
    }
   ],
   "source": [
    "IK = IKSolver()\n",
    "FK = FKSolver()\n",
    "\n",
    "step = 5  # mm\n",
    "limit = 30  # 30 mm used in the paper, set to 0 to skip this calculation\n",
    "\n",
    "# Bar length sensitivity field (6 values per test position)\n",
    "L_sens_field = np.zeros((2*limit//step+1, 2*limit//step+1, 6), dtype=np.float32)\n",
    "\n",
    "# L taken from IK init\n",
    "L_array_0 = IK.L\n",
    "L0 = IK.L[0][0]  # m\n",
    "\n",
    "# Max. component-wise error\n",
    "dL = 0.1 / 1000  # m\n",
    "\n",
    "# For matrix indices\n",
    "i = 0\n",
    "for x in range(-limit, limit+1, step):  # mm\n",
    "    j = 0\n",
    "    for y in range(-limit, limit+1, step):  # mm\n",
    "        print(f'\\nTest position: ({x}, {y}, 0) mm')\n",
    "\n",
    "        test_pose = [x / 1000.0, y / 1000.0, 0.0, 0.0, 0.0, 0.0]  # change z rotations here\n",
    "        #print('Test pose:\\t', test_pose)\n",
    "\n",
    "        # Make sure to overwrite any changes to IK config from other iterations\n",
    "        IK.L = L_array_0\n",
    "        FK.L = L_array_0\n",
    "\n",
    "        # Get joint positions using IK (fixed during sampling)\n",
    "        rx = R.from_euler('x', test_pose[3], degrees=True)\n",
    "        ry = R.from_euler('y', test_pose[4], degrees=True)\n",
    "        rz = R.from_euler('z', test_pose[5], degrees=True)\n",
    "        r = rz * ry * rx\n",
    "        rot = r.as_matrix()\n",
    "        #rot = np.eye(3)\n",
    "        pose_1 = np.array([test_pose[0], test_pose[1], test_pose[2]]).reshape(-1, 1)  # in meters\n",
    "        transform = IK.get_transform_matrix(rot, pose_1)\n",
    "        T_1_0 = IK.transform_1_0(IK.init_T_1_0, transform)\n",
    "        pose_0 = T_1_0[:, -1][:3]\n",
    "        P = IK.init_P_1\n",
    "\n",
    "        _, test_joints = IK.calc_q(pose_0, rot, P)\n",
    "\n",
    "        T_1_0_in = FK.transform_1_0(FK.init_T_1_0, FK.get_transform_matrix(np.eye(3), np.zeros((3,1))))\n",
    "        q_0 = np.zeros((6, 1), dtype=np.float32)\n",
    "\n",
    "        z_offset = None\n",
    "\n",
    "        # Helper variables for max. dev calculation\n",
    "        max_pose_error = np.zeros(6)\n",
    "\n",
    "        for n in range(100):  # n_L random error arrays\n",
    "            L_sample = np.random.uniform(low=L0-dL, high=L0+dL, size=(6,1))\n",
    "            #print(f'L_sample: {L_sample.T*1000} mm')\n",
    "\n",
    "            # Set new varied bar lengths as IK and FK attribute\n",
    "            IK.L = L_sample\n",
    "            FK.L = L_sample\n",
    "\n",
    "            # Get resulting EEF pose using FK\n",
    "            fk = FK.get_eef_transform_matrix(T_1_0_in, q_0, test_joints, n_iter=50, n_q=50)\n",
    "            x_test = np.zeros(6)\n",
    "            x_test[:3] = fk[:3, 3]\n",
    "            if z_offset is None:\n",
    "               z_offset = x_test[2]\n",
    "            x_test[2] -= z_offset\n",
    "            x_test[3:] = R.from_matrix(fk[:3, :3]).as_euler('xyz', degrees=True)\n",
    "            \n",
    "            # Get deviation vector\n",
    "            x_err = x_test - np.array(test_pose)\n",
    "            #print(f'x_err: {x_err}')\n",
    "\n",
    "            # See whether some absolute value of the pose error is larger than so far recorded at this test pose\n",
    "            for k in range(6):\n",
    "                if np.abs(x_err[k]) > max_pose_error[k]:\n",
    "                    max_pose_error[k] = np.abs(x_err[k])\n",
    "\n",
    "        print(f'max_pose_error: {max_pose_error}')\n",
    "\n",
    "        # Convert to mm, angles remain as degrees\n",
    "        max_pose_error[0] *= 1000  # mm for better understanding\n",
    "        max_pose_error[1] *= 1000  # mm for better understanding\n",
    "        max_pose_error[2] *= 1000  # mm for better understanding\n",
    "\n",
    "        L_sens_field[j,i,:] = max_pose_error\n",
    "\n",
    "        j += 1\n",
    "\n",
    "    i += 1\n"
   ]
  },
  {
   "cell_type": "code",
   "execution_count": 9,
   "id": "8b1ce30d",
   "metadata": {},
   "outputs": [
    {
     "data": {
      "image/png": "[encoded data removed]",
      "text/plain": [
       "<Figure size 800x600 with 2 Axes>"
      ]
     },
     "metadata": {},
     "output_type": "display_data"
    }
   ],
   "source": [
    "plot_heatmap(L_sens_field[:,:,0], title='Maximum position deviation in x', limit=limit)"
   ]
  },
  {
   "cell_type": "code",
   "execution_count": 10,
   "id": "89e3ea70",
   "metadata": {},
   "outputs": [
    {
     "data": {
      "image/png": "[encoded data removed]",
      "text/plain": [
       "<Figure size 800x600 with 2 Axes>"
      ]
     },
     "metadata": {},
     "output_type": "display_data"
    }
   ],
   "source": [
    "plot_heatmap(L_sens_field[:,:,1], title='Maximum position deviation in y', limit=limit)"
   ]
  },
  {
   "cell_type": "code",
   "execution_count": 11,
   "id": "de990a23",
   "metadata": {},
   "outputs": [
    {
     "data": {
      "image/png": "[encoded data removed]",
      "text/plain": [
       "<Figure size 800x600 with 2 Axes>"
      ]
     },
     "metadata": {},
     "output_type": "display_data"
    }
   ],
   "source": [
    "plot_heatmap(L_sens_field[:,:,2], title='Maximum position deviation in z', limit=limit)"
   ]
  },
  {
   "cell_type": "code",
   "execution_count": 12,
   "id": "91705c81",
   "metadata": {},
   "outputs": [
    {
     "data": {
      "image/png": "[encoded data removed]",
      "text/plain": [
       "<Figure size 800x600 with 2 Axes>"
      ]
     },
     "metadata": {},
     "output_type": "display_data"
    }
   ],
   "source": [
    "plot_heatmap(L_sens_field[:,:,3], title='Maximum orientation deviation in theta_x', limit=limit)"
   ]
  },
  {
   "cell_type": "code",
   "execution_count": 13,
   "id": "11a352f6",
   "metadata": {},
   "outputs": [
    {
     "data": {
      "image/png": "[encoded data removed]",
      "text/plain": [
       "<Figure size 800x600 with 2 Axes>"
      ]
     },
     "metadata": {},
     "output_type": "display_data"
    }
   ],
   "source": [
    "plot_heatmap(L_sens_field[:,:,4], title='Maximum orientation deviation in theta_y', limit=limit)"
   ]
  },
  {
   "cell_type": "code",
   "execution_count": 14,
   "id": "a146cca1",
   "metadata": {},
   "outputs": [
    {
     "data": {
      "image/png": "[encoded data removed]",
      "text/plain": [
       "<Figure size 800x600 with 2 Axes>"
      ]
     },
     "metadata": {},
     "output_type": "display_data"
    }
   ],
   "source": [
    "plot_heatmap(L_sens_field[:,:,5], title='Maximum orientation deviation in theta_z', limit=limit)"
   ]
  },
  {
   "cell_type": "markdown",
   "id": "878600f9",
   "metadata": {},
   "source": [
    "Some numeric values of statistical properties of the fields above..."
   ]
  },
  {
   "cell_type": "code",
   "execution_count": 15,
   "id": "236141fb",
   "metadata": {},
   "outputs": [
    {
     "data": {
      "text/plain": [
       "np.float32(0.8064632)"
      ]
     },
     "execution_count": 15,
     "metadata": {},
     "output_type": "execute_result"
    }
   ],
   "source": [
    "np.mean(L_sens_field[:,:,0])"
   ]
  },
  {
   "cell_type": "code",
   "execution_count": 16,
   "id": "ab922d91",
   "metadata": {},
   "outputs": [
    {
     "data": {
      "text/plain": [
       "np.float32(0.07630126)"
      ]
     },
     "execution_count": 16,
     "metadata": {},
     "output_type": "execute_result"
    }
   ],
   "source": [
    "np.std(L_sens_field[:,:,0])"
   ]
  },
  {
   "cell_type": "code",
   "execution_count": 17,
   "id": "3e115e9d",
   "metadata": {},
   "outputs": [
    {
     "data": {
      "text/plain": [
       "np.float32(0.80574363)"
      ]
     },
     "execution_count": 17,
     "metadata": {},
     "output_type": "execute_result"
    }
   ],
   "source": [
    "np.mean(L_sens_field[:,:,1])"
   ]
  },
  {
   "cell_type": "code",
   "execution_count": 18,
   "id": "8aa81a19",
   "metadata": {},
   "outputs": [
    {
     "data": {
      "text/plain": [
       "np.float32(0.08552606)"
      ]
     },
     "execution_count": 18,
     "metadata": {},
     "output_type": "execute_result"
    }
   ],
   "source": [
    "np.std(L_sens_field[:,:,1])"
   ]
  },
  {
   "cell_type": "code",
   "execution_count": 21,
   "id": "92052a96",
   "metadata": {},
   "outputs": [
    {
     "data": {
      "text/plain": [
       "np.float32(0.13519068)"
      ]
     },
     "execution_count": 21,
     "metadata": {},
     "output_type": "execute_result"
    }
   ],
   "source": [
    "np.mean(L_sens_field[:,:,2])"
   ]
  },
  {
   "cell_type": "code",
   "execution_count": 22,
   "id": "e3e0eb5e",
   "metadata": {},
   "outputs": [
    {
     "data": {
      "text/plain": [
       "np.float32(0.04203723)"
      ]
     },
     "execution_count": 22,
     "metadata": {},
     "output_type": "execute_result"
    }
   ],
   "source": [
    "np.std(L_sens_field[:,:,2])"
   ]
  },
  {
   "cell_type": "code",
   "execution_count": 23,
   "id": "71f5697d",
   "metadata": {},
   "outputs": [
    {
     "data": {
      "text/plain": [
       "np.float32(0.06393636)"
      ]
     },
     "execution_count": 23,
     "metadata": {},
     "output_type": "execute_result"
    }
   ],
   "source": [
    "np.mean(L_sens_field[:,:,3])"
   ]
  },
  {
   "cell_type": "code",
   "execution_count": 24,
   "id": "e1079892",
   "metadata": {},
   "outputs": [
    {
     "data": {
      "text/plain": [
       "np.float32(0.0073061762)"
      ]
     },
     "execution_count": 24,
     "metadata": {},
     "output_type": "execute_result"
    }
   ],
   "source": [
    "np.std(L_sens_field[:,:,3])"
   ]
  },
  {
   "cell_type": "code",
   "execution_count": 25,
   "id": "2e0d9e06",
   "metadata": {},
   "outputs": [
    {
     "data": {
      "text/plain": [
       "np.float32(0.0628884)"
      ]
     },
     "execution_count": 25,
     "metadata": {},
     "output_type": "execute_result"
    }
   ],
   "source": [
    "np.mean(L_sens_field[:,:,4])"
   ]
  },
  {
   "cell_type": "code",
   "execution_count": 26,
   "id": "4fe58796",
   "metadata": {},
   "outputs": [
    {
     "data": {
      "text/plain": [
       "np.float32(0.0072053345)"
      ]
     },
     "execution_count": 26,
     "metadata": {},
     "output_type": "execute_result"
    }
   ],
   "source": [
    "np.std(L_sens_field[:,:,4])"
   ]
  },
  {
   "cell_type": "code",
   "execution_count": 27,
   "id": "5829321b",
   "metadata": {},
   "outputs": [
    {
     "data": {
      "text/plain": [
       "np.float32(0.3468588)"
      ]
     },
     "execution_count": 27,
     "metadata": {},
     "output_type": "execute_result"
    }
   ],
   "source": [
    "np.mean(L_sens_field[:,:,5])"
   ]
  },
  {
   "cell_type": "code",
   "execution_count": 28,
   "id": "cf687020",
   "metadata": {},
   "outputs": [
    {
     "data": {
      "text/plain": [
       "np.float32(0.04015993)"
      ]
     },
     "execution_count": 28,
     "metadata": {},
     "output_type": "execute_result"
    }
   ],
   "source": [
    "np.std(L_sens_field[:,:,5])"
   ]
  },
  {
   "cell_type": "code",
   "execution_count": 29,
   "id": "3b0c3a3d",
   "metadata": {},
   "outputs": [
    {
     "data": {
      "text/plain": [
       "np.float32(1.0710269)"
      ]
     },
     "execution_count": 29,
     "metadata": {},
     "output_type": "execute_result"
    }
   ],
   "source": [
    "np.max(L_sens_field[:,:,0])"
   ]
  },
  {
   "cell_type": "code",
   "execution_count": 30,
   "id": "3bc60040",
   "metadata": {},
   "outputs": [
    {
     "data": {
      "text/plain": [
       "np.float32(1.0318406)"
      ]
     },
     "execution_count": 30,
     "metadata": {},
     "output_type": "execute_result"
    }
   ],
   "source": [
    "np.max(L_sens_field[:,:,1])"
   ]
  },
  {
   "cell_type": "code",
   "execution_count": 31,
   "id": "30d8bee1",
   "metadata": {},
   "outputs": [
    {
     "data": {
      "text/plain": [
       "np.float32(0.2459157)"
      ]
     },
     "execution_count": 31,
     "metadata": {},
     "output_type": "execute_result"
    }
   ],
   "source": [
    "np.max(L_sens_field[:,:,2])"
   ]
  },
  {
   "cell_type": "code",
   "execution_count": 32,
   "id": "dc0ef1a6",
   "metadata": {},
   "outputs": [
    {
     "data": {
      "text/plain": [
       "np.float32(0.08645854)"
      ]
     },
     "execution_count": 32,
     "metadata": {},
     "output_type": "execute_result"
    }
   ],
   "source": [
    "np.max(L_sens_field[:,:,3])"
   ]
  },
  {
   "cell_type": "code",
   "execution_count": 33,
   "id": "846a0198",
   "metadata": {},
   "outputs": [
    {
     "data": {
      "text/plain": [
       "np.float32(0.09948113)"
      ]
     },
     "execution_count": 33,
     "metadata": {},
     "output_type": "execute_result"
    }
   ],
   "source": [
    "np.max(L_sens_field[:,:,4])"
   ]
  },
  {
   "cell_type": "code",
   "execution_count": 34,
   "id": "e5a46f85",
   "metadata": {},
   "outputs": [
    {
     "data": {
      "text/plain": [
       "np.float32(0.46434453)"
      ]
     },
     "execution_count": 34,
     "metadata": {},
     "output_type": "execute_result"
    }
   ],
   "source": [
    "np.max(L_sens_field[:,:,5])"
   ]
  },
  {
   "cell_type": "markdown",
   "id": "a13c07f2",
   "metadata": {},
   "source": [
    "A histogram may also say a lot. For instance, the distribution should be left-skewed and long-tailed as the fields contain only absolute values of maximum deviations."
   ]
  },
  {
   "cell_type": "code",
   "execution_count": 35,
   "id": "fc46b0a1",
   "metadata": {},
   "outputs": [
    {
     "data": {
      "image/png": "[encoded data removed]",
      "text/plain": [
       "<Figure size 800x500 with 1 Axes>"
      ]
     },
     "metadata": {},
     "output_type": "display_data"
    }
   ],
   "source": [
    "flattened_x = L_sens_field[:,:,0].flatten()\n",
    "\n",
    "plt.figure(figsize=(8, 5))\n",
    "plt.hist(flattened_x, bins=13, color='red', edgecolor='black')\n",
    "plt.xlabel(r'$\\Delta x\\,[mm]$')\n",
    "plt.ylabel('Frequency')\n",
    "plt.grid(True)\n",
    "plt.tight_layout()\n",
    "plt.show()"
   ]
  },
  {
   "cell_type": "code",
   "execution_count": 36,
   "id": "9f064bd4",
   "metadata": {},
   "outputs": [
    {
     "data": {
      "image/png": "[encoded data removed]",
      "text/plain": [
       "<Figure size 800x500 with 1 Axes>"
      ]
     },
     "metadata": {},
     "output_type": "display_data"
    }
   ],
   "source": [
    "flattened_y = L_sens_field[:,:,1].flatten()\n",
    "\n",
    "plt.figure(figsize=(8, 5))\n",
    "plt.hist(flattened_y, bins=13, color='green', edgecolor='black')\n",
    "plt.xlabel(r'$\\Delta y\\,[mm]$')\n",
    "plt.ylabel('Frequency')\n",
    "plt.grid(True)\n",
    "plt.tight_layout()\n",
    "plt.show()"
   ]
  },
  {
   "cell_type": "code",
   "execution_count": 37,
   "id": "39e9eb7b",
   "metadata": {},
   "outputs": [
    {
     "data": {
      "image/png": "[encoded data removed]",
      "text/plain": [
       "<Figure size 800x500 with 1 Axes>"
      ]
     },
     "metadata": {},
     "output_type": "display_data"
    }
   ],
   "source": [
    "flattened_z = L_sens_field[:,:,2].flatten()\n",
    "\n",
    "plt.figure(figsize=(8, 5))\n",
    "plt.hist(flattened_z, bins=13, color='blue', edgecolor='black')\n",
    "plt.xlabel(r'$\\Delta z\\,[mm]$')\n",
    "plt.ylabel('Frequency')\n",
    "plt.grid(True)\n",
    "plt.tight_layout()\n",
    "plt.show()"
   ]
  },
  {
   "cell_type": "code",
   "execution_count": 38,
   "id": "55ec3c5c",
   "metadata": {},
   "outputs": [
    {
     "data": {
      "image/png": "[encoded data removed]",
      "text/plain": [
       "<Figure size 800x500 with 1 Axes>"
      ]
     },
     "metadata": {},
     "output_type": "display_data"
    }
   ],
   "source": [
    "flattened_theta_x = L_sens_field[:,:,3].flatten()\n",
    "\n",
    "plt.figure(figsize=(8, 5))\n",
    "plt.hist(flattened_theta_x, bins=13, color='magenta', edgecolor='black')\n",
    "plt.xlabel(r'$\\Delta \\theta_x\\,[deg]$')\n",
    "plt.ylabel('Frequency')\n",
    "plt.grid(True)\n",
    "plt.tight_layout()\n",
    "plt.show()"
   ]
  },
  {
   "cell_type": "code",
   "execution_count": 39,
   "id": "ca4be948",
   "metadata": {},
   "outputs": [
    {
     "data": {
      "image/png": "[encoded data removed]",
      "text/plain": [
       "<Figure size 800x500 with 1 Axes>"
      ]
     },
     "metadata": {},
     "output_type": "display_data"
    }
   ],
   "source": [
    "flattened_theta_y = L_sens_field[:,:,4].flatten()\n",
    "\n",
    "plt.figure(figsize=(8, 5))\n",
    "plt.hist(flattened_theta_y, bins=13, color='yellow', edgecolor='black')\n",
    "plt.xlabel(r'$\\Delta \\theta_y\\,[deg]$')\n",
    "plt.ylabel('Frequency')\n",
    "plt.grid(True)\n",
    "plt.tight_layout()\n",
    "plt.show()"
   ]
  },
  {
   "cell_type": "code",
   "execution_count": 40,
   "id": "89ce87f0",
   "metadata": {},
   "outputs": [
    {
     "data": {
      "image/png": "[encoded data removed]",
      "text/plain": [
       "<Figure size 800x500 with 1 Axes>"
      ]
     },
     "metadata": {},
     "output_type": "display_data"
    }
   ],
   "source": [
    "flattened_theta_z = L_sens_field[:,:,5].flatten()\n",
    "\n",
    "plt.figure(figsize=(8, 5))\n",
    "plt.hist(flattened_theta_z, bins=13, color='cyan', edgecolor='black')\n",
    "plt.xlabel(r'$\\Delta \\theta_z\\,[deg]$')\n",
    "plt.ylabel('Frequency')\n",
    "plt.grid(True)\n",
    "plt.tight_layout()\n",
    "plt.show()"
   ]
  }
 ],
 "metadata": {
  "kernelspec": {
   "display_name": "Python 3",
   "language": "python",
   "name": "python3"
  },
  "language_info": {
   "codemirror_mode": {
    "name": "ipython",
    "version": 3
   },
   "file_extension": ".py",
   "mimetype": "text/x-python",
   "name": "python",
   "nbconvert_exporter": "python",
   "pygments_lexer": "ipython3",
   "version": "3.11.9"
  }
 },
 "nbformat": 4,
 "nbformat_minor": 5
}
